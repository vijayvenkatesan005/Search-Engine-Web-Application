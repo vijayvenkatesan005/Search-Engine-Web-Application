{
 "cells": [
  {
   "cell_type": "code",
   "execution_count": null,
   "id": "6f9c5337",
   "metadata": {},
   "outputs": [],
   "source": [
    "from elasticsearch import Elasticsearch\n",
    "from bs4 import BeautifulSoup\n",
    "from datetime import datetime\n",
    "from flask import Flask, render_template, request\n",
    "import os\n"
   ]
  },
  {
   "cell_type": "code",
   "execution_count": null,
   "id": "1d2a79a9",
   "metadata": {},
   "outputs": [],
   "source": [
    "\n",
    "es = Elasticsearch([{'host': 'localhost', 'port':9200, 'scheme': 'http'}], http_auth=(\"vijay\", \"password\"))\n",
    "es.info()"
   ]
  },
  {
   "cell_type": "code",
   "execution_count": null,
   "id": "50913f0b",
   "metadata": {},
   "outputs": [],
   "source": [
    "directory_path = \"Assignment 3 dataset/AP_DATA/ap89_collection\"\n",
    "\n",
    "documents = list()\n",
    "\n",
    "file_list = os.listdir(directory_path)\n",
    "\n",
    "for file_name in file_list:\n",
    "\n",
    "    file_path = os.path.join(directory_path, file_name)\n",
    "\n",
    "    with open(file_path, \"r\") as file:\n",
    "\n",
    "        tag_dict = dict()\n",
    "        \n",
    "        soup = BeautifulSoup(file, \"xml\")\n",
    "\n",
    "        unique_tag_names = set(tag.name for tag in soup.find_all())\n",
    "\n",
    "        for tag_name in unique_tag_names:\n",
    "\n",
    "            content_list = soup.find_all(tag_name)\n",
    "\n",
    "            for element in content_list:\n",
    "\n",
    "                if tag_name in tag_dict:\n",
    "                    \n",
    "                    tag_dict[tag_name].append(element.text)\n",
    "\n",
    "                else:\n",
    "\n",
    "                    tag_dict[tag_name] = [element.text]\n",
    "        \n",
    "        \n",
    "        documents.append(tag_dict)\n",
    "\n",
    "\n",
    "print(documents[:10])    \n"
   ]
  },
  {
   "cell_type": "code",
   "execution_count": null,
   "id": "1704135e",
   "metadata": {},
   "outputs": [],
   "source": [
    "def index_documents(index, id, document):\n",
    "    \n",
    "    resp = es.index(index=index, id=id, document=document)\n",
    "    print(resp['result'])\n"
   ]
  },
  {
   "cell_type": "code",
   "execution_count": null,
   "id": "1abedf68",
   "metadata": {},
   "outputs": [],
   "source": [
    "for i in range(len(documents)):\n",
    "    \n",
    "    es.index(index = \"my_index\", id = i + 1, document = documents[i])\n"
   ]
  },
  {
   "cell_type": "code",
   "execution_count": null,
   "id": "ab9e5caa",
   "metadata": {},
   "outputs": [],
   "source": [
    "resp = es.get(index=\"my_index\", id=1)\n",
    "print(resp['_source'])"
   ]
  },
  {
   "cell_type": "code",
   "execution_count": null,
   "id": "1beaf526",
   "metadata": {},
   "outputs": [],
   "source": [
    "def search_query(q):\n",
    "    \n",
    "    body = {\n",
    "        \"size\": 20,\n",
    "        \"query\": {\n",
    "            \"dis_max\": {\n",
    "                \"queries\": [\n",
    "                    {\"match\": {\"head\": q}},\n",
    "                    {\"match\": {\"text\": q}}\n",
    "                ],\n",
    "                \"tie_breaker\": 0.3\n",
    "            }\n",
    "        }\n",
    "    }\n",
    "\n",
    "    resp = es.search(index=\"my_index\", body=body)\n",
    "\n",
    "    results = []\n",
    "\n",
    "    for hit in resp['hits']['hits']:\n",
    "        \n",
    "        title = (hit[\"_source\"].get('HEAD') or ['No title available'])[0]\n",
    "        author = (hit[\"_source\"].get('BYLINE') or ['No author available'])[0]\n",
    "        date = (hit[\"_source\"].get('FILEID') or ['No date available'])[0]\n",
    "        text = (hit[\"_source\"].get('TEXT') or ['No text available'])[0]\n",
    "\n",
    "        text.replace('\\n', '')\n",
    "\n",
    "        formatted_result = f\"Title: {title}\\nAuthor: {author}\\nDate: {date}\\n\\n{text}\\n\\n\"\n",
    "\n",
    "        formatted_result = formatted_result.replace('\\n', '<br>')\n",
    "\n",
    "        results.append(formatted_result)\n",
    "\n",
    "    return results\n"
   ]
  },
  {
   "cell_type": "code",
   "execution_count": null,
   "id": "66669f54",
   "metadata": {},
   "outputs": [],
   "source": [
    "search_query(\"cat\")"
   ]
  },
  {
   "cell_type": "code",
   "execution_count": null,
   "id": "3825d196",
   "metadata": {},
   "outputs": [],
   "source": [
    "app = Flask(__name__)\n",
    "\n",
    "\n",
    "@app.route('/', methods=['GET', 'POST'])\n",
    "def homepage():\n",
    "\n",
    "    results = []\n",
    "\n",
    "    if request.method == 'POST':\n",
    "\n",
    "        query = request.form.get('search_query')\n",
    "        \n",
    "        results = search(query)\n",
    "    \n",
    "    return render_template('test.html', results=results)\n",
    "\n",
    "\n",
    "def search(query):\n",
    "\n",
    "    return search_query(query)\n",
    "\n",
    "\n",
    "app.run(debug=False)"
   ]
  },
  {
   "cell_type": "code",
   "execution_count": null,
   "id": "4da35c14",
   "metadata": {},
   "outputs": [],
   "source": []
  }
 ],
 "metadata": {
  "kernelspec": {
   "display_name": "Python 3 (ipykernel)",
   "language": "python",
   "name": "python3"
  },
  "language_info": {
   "codemirror_mode": {
    "name": "ipython",
    "version": 3
   },
   "file_extension": ".py",
   "mimetype": "text/x-python",
   "name": "python",
   "nbconvert_exporter": "python",
   "pygments_lexer": "ipython3",
   "version": "3.11.5"
  }
 },
 "nbformat": 4,
 "nbformat_minor": 5
}
